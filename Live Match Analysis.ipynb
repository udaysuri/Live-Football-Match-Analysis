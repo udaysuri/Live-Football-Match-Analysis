{
 "cells": [
  {
   "cell_type": "markdown",
   "metadata": {},
   "source": [
    "# Live Match Data Scraping and Analysis\n",
    "### Prepared by- Uday Suri"
   ]
  },
  {
   "cell_type": "markdown",
   "metadata": {},
   "source": [
    "#### Variables:\n",
    "* In [4]:  Match_id | Match_id_fbref\n",
    "* In [11]:  hfbref_element- Xpath | afbref_element- Xpath\n",
    "* In [12]:  hgkfbref_element- Xpath | agkfbref_element- Xpath"
   ]
  },
  {
   "cell_type": "markdown",
   "metadata": {},
   "source": [
    "## I. Importing Libraries"
   ]
  },
  {
   "cell_type": "code",
   "execution_count": 1,
   "metadata": {},
   "outputs": [],
   "source": [
    "#importing the necessary libraries\n",
    "import pandas as pd, numpy as np\n",
    "#importing json package to read the data\n",
    "import json\n",
    "#importing drivers\n",
    "from selenium import webdriver\n",
    "from selenium.webdriver.chrome.options import Options\n",
    "from selenium.webdriver.common.by import By\n",
    "from selenium.webdriver.support.ui import WebDriverWait\n",
    "from selenium.webdriver.support import expected_conditions as EC\n",
    "from selenium.common.exceptions import TimeoutException, WebDriverException\n",
    "from selenium.webdriver.common.action_chains import ActionChains\n",
    "import time\n",
    "#importing beautiful soup\n",
    "from bs4 import BeautifulSoup\n",
    "#importing visualizing libraries\n",
    "import matplotlib.pyplot as plt\n",
    "import seaborn as sns\n",
    "from matplotlib.patches import Arc\n",
    "import plotly.graph_objects as go\n",
    "#importing warnings\n",
    "import warnings\n",
    "warnings.filterwarnings(\"ignore\")\n",
    "#importing os module\n",
    "import os\n",
    "from os.path import basename\n",
    "#importing time\n",
    "import time\n",
    "#importing pathlib\n",
    "import pathlib\n",
    "#importing string\n",
    "import string\n",
    "\n",
    "import unicodedata\n",
    "\n",
    "import difflib"
   ]
  },
  {
   "cell_type": "markdown",
   "metadata": {},
   "source": [
    "## II. Defining Functions"
   ]
  },
  {
   "cell_type": "code",
   "execution_count": 2,
   "metadata": {},
   "outputs": [],
   "source": [
    "# defining flatten_nested_json_df to extarct data from dictionaries and put it in different columns\n",
    "def flatten_nested_json_df(df):\n",
    "\n",
    "    df = df.reset_index()\n",
    "\n",
    "    print(f\"original shape: {df.shape}\")\n",
    "    print(f\"original columns: {df.columns}\")\n",
    "\n",
    "\n",
    "    # search for columns to explode/flatten\n",
    "    s = (df.applymap(type) == list).all()\n",
    "    list_columns = s[s].index.tolist()\n",
    "\n",
    "    s = (df.applymap(type) == dict).all()\n",
    "    dict_columns = s[s].index.tolist()\n",
    "\n",
    "    print(f\"lists: {list_columns}, dicts: {dict_columns}\")\n",
    "    while len(list_columns) > 0 or len(dict_columns) > 0:\n",
    "        new_columns = []\n",
    "\n",
    "        for col in dict_columns:\n",
    "            print(f\"flattening: {col}\")\n",
    "            # explode dictionaries horizontally, adding new columns\n",
    "            horiz_exploded = pd.json_normalize(df[col]).add_prefix(f'{col}.')\n",
    "            horiz_exploded.index = df.index\n",
    "            df = pd.concat([df, horiz_exploded], axis=1).drop(columns=[col])\n",
    "            new_columns.extend(horiz_exploded.columns) # inplace\n",
    "\n",
    "        for col in list_columns:\n",
    "            print(f\"exploding: {col}\")\n",
    "            # explode lists vertically, adding new columns\n",
    "            df = df.drop(columns=[col]).join(df[col].explode().to_frame())\n",
    "            new_columns.append(col)\n",
    "\n",
    "        # check if there are still dict o list fields to flatten\n",
    "        s = (df[new_columns].applymap(type) == list).all()\n",
    "        list_columns = s[s].index.tolist()\n",
    "\n",
    "        s = (df[new_columns].applymap(type) == dict).all()\n",
    "        dict_columns = s[s].index.tolist()\n",
    "\n",
    "        print(f\"lists: {list_columns}, dicts: {dict_columns}\")\n",
    "\n",
    "    print(f\"final shape: {df.shape}\")\n",
    "    print(f\"final columns: {df.columns}\")\n",
    "    return df"
   ]
  },
  {
   "cell_type": "code",
   "execution_count": 3,
   "metadata": {},
   "outputs": [],
   "source": [
    "def draw_pitch():\n",
    "    #Create figure\n",
    "    fig=plt.figure()\n",
    "    fig.set_size_inches(20, 13.846)\n",
    "    fig.patch.set_facecolor('xkcd:black')\n",
    "    ax=fig.add_subplot(1,1,1)\n",
    "\n",
    "    #Pitch Outline & Centre Line\n",
    "    plt.plot([0,0],[0,90], color=\"white\")\n",
    "    plt.plot([0,130],[90,90], color=\"white\")\n",
    "    plt.plot([130,130],[90,0], color=\"white\")\n",
    "    plt.plot([130,0],[0,0], color=\"white\")\n",
    "    plt.plot([65,65],[0,90], color=\"white\")\n",
    "\n",
    "    #Left Penalty Area\n",
    "    plt.plot([16.5,16.5],[65,25],color=\"white\")\n",
    "    plt.plot([0,16.5],[65,65],color=\"white\")\n",
    "    plt.plot([16.5,0],[25,25],color=\"white\")\n",
    "\n",
    "    #Right Penalty Area\n",
    "    plt.plot([130,113.5],[65,65],color=\"white\")\n",
    "    plt.plot([113.5,113.5],[65,25],color=\"white\")\n",
    "    plt.plot([113.5,130],[25,25],color=\"white\")\n",
    "\n",
    "    #Left 6-yard Box\n",
    "    plt.plot([0,5.5],[54,54],color=\"white\")\n",
    "    plt.plot([5.5,5.5],[54,36],color=\"white\")\n",
    "    plt.plot([5.5,0.5],[36,36],color=\"white\")\n",
    "\n",
    "    #Right 6-yard Box\n",
    "    plt.plot([130,124.5],[54,54],color=\"white\")\n",
    "    plt.plot([124.5,124.5],[54,36],color=\"white\")\n",
    "    plt.plot([124.5,130],[36,36],color=\"white\")\n",
    "\n",
    "    #Prepare Circles\n",
    "    centreCircle = plt.Circle((65,45),9.15,color=\"white\",fill=False)\n",
    "    centreSpot = plt.Circle((65,45),0.8,color=\"white\")\n",
    "    leftPenSpot = plt.Circle((11,45),0.8,color=\"white\")\n",
    "    rightPenSpot = plt.Circle((119,45),0.8,color=\"white\")\n",
    "\n",
    "    #Draw Circles\n",
    "    ax.add_patch(centreCircle)\n",
    "    ax.add_patch(centreSpot)\n",
    "    ax.add_patch(leftPenSpot)\n",
    "    ax.add_patch(rightPenSpot)\n",
    "\n",
    "    #Prepare Arcs\n",
    "    leftArc = Arc((11,45),height=18.3,width=18.3,angle=0,theta1=310,theta2=50,color=\"white\")\n",
    "    rightArc = Arc((119,45),height=18.3,width=18.3,angle=0,theta1=130,theta2=230,color=\"white\")\n",
    "\n",
    "    #Draw Arcs\n",
    "    ax.add_patch(leftArc)\n",
    "    ax.add_patch(rightArc)\n",
    "    \n",
    "    #Tidy Axes\n",
    "    plt.axis('off')"
   ]
  },
  {
   "cell_type": "markdown",
   "metadata": {},
   "source": [
    "## III. Defining Variables And Assigning Necessary Values"
   ]
  },
  {
   "cell_type": "code",
   "execution_count": 4,
   "metadata": {},
   "outputs": [],
   "source": [
    "# Variable Values [To be changed for each match]\n",
    "Match_id= 1485382\n",
    "Match_id_fbref= \"28ebbc70\""
   ]
  },
  {
   "cell_type": "code",
   "execution_count": 5,
   "metadata": {},
   "outputs": [],
   "source": [
    "# Required Column names for each df\n",
    "position_cols_order1= ['playerId', 'teamId','type.displayName', 'minute', 'second','x', 'y', 'endX', 'endY', 'blockedX', 'blockedY','goalMouthZ', 'goalMouthY','period.displayName','outcomeType.displayName']\n",
    "position_cols_rename= [\"Player\",\"Team\",\"Event Type\",\"Minute\",\"Second\",\"x\",\"y\",\"x_end\",\"y_end\",\"x_block\",\"y_block\",\"z_GoalMouth\",\"y_GoalMouth\",\"Phase\",\"Outcome\"]\n",
    "position_cols_integer= [\"Player\",\"Second\"]\n",
    "position_cols_order2=['Event ID','Player', 'Team','Match Details','Date',\n",
    "       'Time', 'Stadium', 'Event Type',\"Next Player\", 'Minute',\n",
    "       'Second', 'x', 'y', 'x_end', 'y_end', 'x_block',\n",
    "       'y_block', 'z_GoalMouth', 'y_GoalMouth', 'Phase', 'Outcome']\n",
    "summary_cols_rename= [\"Shots\",\"Shots on Target\",\"Key Passes\",\"Passing Accuracy\",\"Aerials Won\",\"Touches\",\"Rating\",\"Team\",\"Player\",\"Position\"]\n",
    "summary_cols_order= [\"Player\",\"Team\",\"Position\",\"Shots\",\"Shots on Target\",\"Key Passes\",\"Passing Accuracy\",\"Aerials Won\",\"Touches\",\"Rating\"]\n",
    "offensive_cols_rename= [\"Shots\",\"Shots on Target\",\"Key Passes\",\"Dribbles\",\"Fouled\",\"Offside\",\"Dispossessed\",\"Bad Touches\",\"Rating\",\"Team\",\"Player\",\"Position\"]\n",
    "offensive_cols_order= [\"Player\",\"Team\",\"Position\",\"Shots\",\"Shots on Target\",\"Key Passes\",\"Dribbles\",\"Fouled\",\"Offside\",\"Dispossessed\",\"Bad Touches\",\"Rating\"]\n",
    "defensive_cols_rename= [\"Total Tackles\",\"Interceptions\",\"Clearances\",\"Blocked Shots\",\"Fouls\",\"Rating\",\"Team\",\"Player\",\"Position\"]\n",
    "defensive_cols_order= [\"Player\",\"Team\",\"Position\",\"Total Tackles\",\"Interceptions\",\"Clearances\",\"Blocked Shots\",\"Fouls\",\"Rating\"]\n",
    "passing_cols_rename= [\"Key Passes\",\"Passes\",\"Passing Accuracy\",\"Crosses\",\"Accurate Crosses\",\"LongBalls\",\"Accurate LongBalls\",\"ThroughBalls\",\"Accurate ThroughBalls\",\"Rating\",\"Team\",\"Player\",\"Position\"]\n",
    "passing_cols_order= [\"Player\",\"Team\",\"Position\",\"Key Passes\",\"Passes\",\"Passing Accuracy\",\"Crosses\",\"Accurate Crosses\",\"LongBalls\",\"Accurate LongBalls\",\"ThroughBalls\",\"Accurate ThroughBalls\",\"Rating\"]\n",
    "Fbref_cols_rename= ['Player', 'Jersey No.', 'Nation', 'Position', 'Age', 'Minutes', 'Goals', 'Assists', 'Penalty Scored',\n",
    "       'Penalty Attempted', 'Shots', 'Shots on Target', 'Yellow Card', 'Red Card', 'Touches', 'Press', 'Tackles', 'Interceptions',\n",
    "       'Blocks', 'xG', 'non-penalty xG', 'xA', 'Shot Creating Actions', 'Goal Creating Actions', 'Completed Passes', 'Attempted Passes', 'Passing Accuracy',\n",
    "       'Progressive Pass', 'Carries', 'Progressive Carry', 'Successful Dribbles', 'Dribbles Attempted']\n",
    "Fbref_cols_order= ['Player','Position', 'Age', 'Minutes', 'Goals',\n",
    "       'Assists','Yellow Card', 'Red Card', 'Press',\n",
    "       'Blocks', 'xG', 'non-penalty xG', 'xA',\n",
    "       'Shot Creating Actions', 'Goal Creating Actions',\n",
    "       'Dribbles Attempted', 'Progressive Pass',\n",
    "       'Carries', 'Progressive Carry']\n",
    "gkfbref_cols_rename= ['Player', 'Nation', 'Age', 'Minutes', 'Shots on Target Against', 'Goals Against', 'Saves', 'Save%',\n",
    "       'Post Shot xG', 'Completed LongBalls', 'Attempted LongBalls', 'LongBall Accuracy', 'Completed Passes', 'Attempted Passes', 'LongBall/Pass %', 'Average Pass Length(Yds)',\n",
    "       'GoalKicks Attempted','GK/LongBall %', 'Average GK Length(Yds)', 'Crosses Against', 'Crosses Stopped', 'Cross Stop %', 'Defensive Action(outside Pen Area)', 'Average distance from Goal']\n",
    "gkfbref_cols_order= ['Player', 'Nation', 'Age', 'Minutes', 'Shots on Target Against', 'Goals Against', 'Saves', 'Save%',\n",
    "       'Post Shot xG', 'Completed Passes', 'Attempted Passes', 'LongBall/Pass %', 'Average Pass Length(Yds)',\n",
    "       'GoalKicks Attempted','GK/LongBall %', 'Average GK Length(Yds)', 'Crosses Against', 'Crosses Stopped', 'Cross Stop %', 'Defensive Action(outside Pen Area)', 'Average distance from Goal']\n",
    "Outfield_stats_cols_order= ['Player', 'Team','Age','Position','Minutes', 'Goals', 'Assists','xG', 'non-penalty xG',\n",
    "       'xA','Yellow Card', 'Red Card', 'Shots', 'Shots on Target', 'Key Passes',\n",
    "       'Passing Accuracy', 'Aerials Won', 'Touches', 'Rating', 'Total Tackles',\n",
    "       'Interceptions', 'Clearances', 'Blocked Shots', 'Fouls','Fouled', 'Offside', 'Dispossessed', 'Bad Touches', 'Passes', 'Crosses',\n",
    "       'Accurate Crosses', 'LongBalls', 'Accurate LongBalls', 'ThroughBalls',\n",
    "       'Accurate ThroughBalls', 'Press', 'Blocks', 'Shot Creating Actions', 'Goal Creating Actions',\n",
    "       'Dribbles Attempted', 'Dribbles','Progressive Pass', 'Carries','Progressive Carry']"
   ]
  },
  {
   "cell_type": "markdown",
   "metadata": {},
   "source": [
    "## IV. Scraping, Cleaning & Transforming Live Match Data From WhoScored.com & Fbref.com"
   ]
  },
  {
   "cell_type": "markdown",
   "metadata": {},
   "source": [
    "#### A. Positioning Data"
   ]
  },
  {
   "cell_type": "code",
   "execution_count": 6,
   "metadata": {},
   "outputs": [
    {
     "name": "stdout",
     "output_type": "stream",
     "text": [
      "original shape: (1706, 27)\n",
      "original columns: Index(['index', 'id', 'eventId', 'minute', 'second', 'teamId', 'x', 'y',\n",
      "       'expandedMinute', 'period', 'type', 'outcomeType', 'qualifiers',\n",
      "       'satisfiedEventsTypes', 'isTouch', 'playerId', 'endX', 'endY',\n",
      "       'goalMouthZ', 'goalMouthY', 'isGoal', 'isShot', 'blockedX', 'blockedY',\n",
      "       'relatedEventId', 'relatedPlayerId', 'cardType'],\n",
      "      dtype='object')\n",
      "lists: ['qualifiers', 'satisfiedEventsTypes'], dicts: ['period', 'type', 'outcomeType']\n",
      "flattening: period\n",
      "flattening: type\n",
      "flattening: outcomeType\n",
      "exploding: qualifiers\n",
      "exploding: satisfiedEventsTypes\n",
      "lists: [], dicts: []\n",
      "final shape: (423101, 30)\n",
      "final columns: Index(['index', 'id', 'eventId', 'minute', 'second', 'teamId', 'x', 'y',\n",
      "       'expandedMinute', 'isTouch', 'playerId', 'endX', 'endY', 'goalMouthZ',\n",
      "       'goalMouthY', 'isGoal', 'isShot', 'blockedX', 'blockedY',\n",
      "       'relatedEventId', 'relatedPlayerId', 'cardType', 'period.value',\n",
      "       'period.displayName', 'type.value', 'type.displayName',\n",
      "       'outcomeType.value', 'outcomeType.displayName', 'qualifiers',\n",
      "       'satisfiedEventsTypes'],\n",
      "      dtype='object')\n"
     ]
    }
   ],
   "source": [
    "# Using Selenium to define driver\n",
    "driver = webdriver.Chrome(executable_path =\"C:\\Program Files (x86)\\Google\\Chrome\\chromedriver.exe\")\n",
    "url= \"https://www.whoscored.com/Matches/\"+str(Match_id)+\"/Live/\" # Defining the url\n",
    "driver.get(url) # Opening the browser window\n",
    "p_element = driver.find_element_by_xpath('//*[@id=\"layout-wrapper\"]/script[1]') # Finding the desired element using xpath\n",
    "p_db=p_element.get_attribute('innerHTML') # Getting attributes of an element\n",
    "driver.close() # Closing the browser window\n",
    "p_db=p_db.strip() # Removing any space at the start or end.\n",
    "p_db=p_db[p_db.index(\": {\")+2:p_db.index(\";\")] # Using .index() to get the required json data\n",
    "p_db= p_db[0:p_db.index(\"\\n\")-1] # Using .index() to get the required json data\n",
    "p= json.loads(p_db) # Parse and convert the json data into dictionary\n",
    "Player= p[\"playerIdNameDictionary\"] # Extracting the Player ID: Player Name data from the main dictionary\n",
    "Players= dict(Player) # Converting the Player ID: Player Name data into a dictionary\n",
    "Teams= {p[\"home\"][\"teamId\"]:p[\"home\"][\"name\"],p[\"away\"][\"teamId\"]:p[\"away\"][\"name\"]} # Creating the Team ID: Team Name dictionary\n",
    "events= p[\"events\"] # Extracting the events data from the main dictionary\n",
    "\n",
    "# Converting the events data to a pandas DataFrame\n",
    "events_df= pd.DataFrame(events)\n",
    "events_df_flat= flatten_nested_json_df(events_df) # Using the defined function to extarct data from dictionaries and put it in different columns\n",
    "events_df_flat= events_df_flat[position_cols_order1] # Selecting a sub-set of the original df using the pre-defined column list\n",
    "events_df_flat= events_df_flat[events_df_flat[\"period.displayName\"]!='PreMatch'] # Dropping the pre-match event details\n",
    "events_df_flat= events_df_flat[events_df_flat[\"period.displayName\"]!='PostGame'] # Dropping the post-match event details\n",
    "events_df_flat= events_df_flat.drop_duplicates(subset=None, keep='first') # Dropping the duplicate rows\n",
    "events_df_flat= events_df_flat.dropna(subset=['playerId']) # Dropping the rows where player details are missing\n",
    "events_df_flat= events_df_flat.rename(columns=dict(zip(events_df_flat.columns,position_cols_rename))) # Renaming the columns\n",
    "events_df_flat[\"Second\"]= events_df_flat[\"Second\"].fillna(0) # Filling null values in 'Second' column by 0.\n",
    "events_df_flat[position_cols_integer]= events_df_flat[position_cols_integer].astype(int) # Converting select columns to integers\n",
    "events_df_flat[\"Player\"]= events_df_flat[\"Player\"].astype(str) # Converting select columns to string\n",
    "events_df_flat.replace({\"Player\": Players}, inplace=True) # Adding player names in place of ID using the players dictionary\n",
    "events_df_flat.replace({\"Team\": Teams}, inplace=True) # Adding team names in place of ID using the teams dictionary\n",
    "events_df_flat[\"Stadium\"]= p[\"venueName\"] # Adding Stadium name column from the original dictionary\n",
    "events_df_flat[\"Date-Time\"]= p[\"startTime\"] # Adding Date-Time column from the original dictionary\n",
    "events_df_flat[\"Date\"]= \"\" # Creating a Date column\n",
    "events_df_flat[\"Time\"]= \"\" # Creating a Time column\n",
    "events_df_flat[[\"Date\",\"Time\"]]=events_df_flat[\"Date-Time\"].str.split(\"T\",expand=True) # Adding values in Date,Time columns\n",
    "events_df_flat[\"Date\"]= events_df_flat[\"Date\"].astype(\"datetime64[ns]\") # Converting Date column to Datetime\n",
    "events_df_flat[\"Match Details\"]= p[\"home\"][\"name\"]+\" vs \"+p[\"away\"][\"name\"] # Adding Match Details column from the original dictionary\n",
    "events_df_flat[\"Event ID\"]= events_df_flat.index # Adding Event ID column from the index values\n",
    "events_df_flat[\"Next Player\"]= \"\"\n",
    "events_df_flat.reset_index(inplace = True, drop = True) #Resetting index values\n",
    "for i in range(events_df_flat.shape[0]):\n",
    "    try:\n",
    "        events_df_flat[\"Next Player\"][i]= events_df_flat[\"Player\"][i+1]\n",
    "    except:\n",
    "        pass\n",
    "events_df_flat=events_df_flat[position_cols_order2] # Selecting a sub-set of the original df using the pre-defined column list\n",
    "events_df_flat.reset_index(inplace = True, drop = True) #Resetting index values\n",
    "\n",
    "# Converting all the x,y coordinate values from 100x100 to 130x90\n",
    "events_df_flat[\"x\"]= events_df_flat[\"x\"]/100*130 \n",
    "events_df_flat[\"y\"]= events_df_flat[\"y\"]/100*90\n",
    "events_df_flat[\"x_end\"]= np.where(events_df_flat['x_end'].isna(), events_df_flat['x_end'],events_df_flat['x_end']/100*130)\n",
    "events_df_flat[\"y_end\"]= np.where(events_df_flat['y_end'].isna(), events_df_flat['y_end'],events_df_flat['y_end']/100*90)\n",
    "events_df_flat[\"x_block\"]= np.where(events_df_flat['x_block'].isna(), events_df_flat['x_block'],events_df_flat['x_block']/100*130)\n",
    "events_df_flat[\"y_block\"]= np.where(events_df_flat['y_block'].isna(), events_df_flat['y_block'],events_df_flat['y_block']/100*90)\n",
    "events_df_flat[\"y_GoalMouth\"]= np.where(events_df_flat['y_GoalMouth'].isna(), events_df_flat['y_GoalMouth'],events_df_flat['y_GoalMouth']/100*90)"
   ]
  },
  {
   "cell_type": "markdown",
   "metadata": {},
   "source": [
    "#### B. Match Summary Stats"
   ]
  },
  {
   "cell_type": "code",
   "execution_count": 7,
   "metadata": {},
   "outputs": [],
   "source": [
    "driver = webdriver.Chrome(executable_path =\"C:\\Program Files (x86)\\Google\\Chrome\\chromedriver.exe\") \n",
    "url= \"https://www.whoscored.com/Matches/\"+str(Match_id)+\"/LiveStatistics/\" # Defining the url\n",
    "driver.get(url)\n",
    "time.sleep(8)\n",
    "s_element= driver.find_elements_by_xpath('//*[@id=\"top-player-stats-summary-grid\"]')\n",
    "\n",
    "hsummary_db=s_element[0].get_attribute('innerHTML')\n",
    "hsummary_db='<table>'+hsummary_db+'</table>'\n",
    "hsummary_df=pd.read_html(hsummary_db)[0]\n",
    "hsummary_df.drop(hsummary_df.columns[0], axis=1,inplace=True)\n",
    "hsummary_df[\"Team\"]= p[\"home\"][\"name\"]\n",
    "\n",
    "asummary_db=s_element[1].get_attribute('innerHTML')\n",
    "asummary_db='<table>'+asummary_db+'</table>'\n",
    "asummary_df=pd.read_html(asummary_db)[0]\n",
    "asummary_df.drop(asummary_df.columns[0], axis=1,inplace=True)\n",
    "asummary_df[\"Team\"]= p[\"away\"][\"name\"]\n",
    "\n",
    "driver.close() # Closing the browser window\n",
    "\n",
    "summary_df= pd.concat([hsummary_df,asummary_df],axis=0)\n",
    "summary_df.drop(\"Key Events\", axis=1,inplace=True)\n",
    "summary_df.reset_index(inplace = True, drop = True)\n",
    "summary_df= summary_df[summary_df[\"Rating\"] != \"-\"]\n",
    "summary_df= pd.concat([summary_df,summary_df[\"Player.1\"].str.split(\",\", 1, expand=True)],axis=1)\n",
    "summary_df[0]=summary_df[0].str.replace('\\d+', '')\n",
    "summary_df[0]=summary_df[0].str.replace(\"′\", \"\")\n",
    "summary_df[0]=summary_df[0].str.replace(\"(\", \"\")\n",
    "summary_df[0]=summary_df[0].str.replace(\")\", \"\")\n",
    "summary_df[0]=summary_df[0].str.strip(\" \")\n",
    "summary_df.drop(summary_df.columns[0], axis=1,inplace=True)\n",
    "summary_df= summary_df.rename(columns=dict(zip(summary_df.columns,summary_cols_rename)))\n",
    "summary_df= summary_df[summary_cols_order]\n",
    "summary_df.reset_index(inplace = True, drop = True)"
   ]
  },
  {
   "cell_type": "markdown",
   "metadata": {},
   "source": [
    "#### C. Match Offensive Stats"
   ]
  },
  {
   "cell_type": "code",
   "execution_count": 8,
   "metadata": {},
   "outputs": [],
   "source": [
    "driver = webdriver.Chrome(executable_path =\"C:\\Program Files (x86)\\Google\\Chrome\\chromedriver.exe\") \n",
    "url= \"https://www.whoscored.com/Matches/\"+str(Match_id)+\"/LiveStatistics/\" # Defining the url\n",
    "driver.get(url)\n",
    "links= driver.find_elements_by_link_text(\"Offensive\")\n",
    "links[0].click()\n",
    "links[1].click()\n",
    "time.sleep(8)\n",
    "o_element= driver.find_elements_by_xpath('//*[@id=\"top-player-stats-summary-grid\"]')\n",
    "hoffensive_db=o_element[1].get_attribute('innerHTML')\n",
    "hoffensive_db='<table>'+hoffensive_db+'</table>'\n",
    "hoffensive_df=pd.read_html(hoffensive_db)[0]\n",
    "hoffensive_df.drop(hoffensive_df.columns[0], axis=1,inplace=True)\n",
    "hoffensive_df[\"Team\"]= p[\"home\"][\"name\"]\n",
    "\n",
    "aoffensive_db=o_element[3].get_attribute('innerHTML')\n",
    "aoffensive_db='<table>'+aoffensive_db+'</table>'\n",
    "aoffensive_df=pd.read_html(aoffensive_db)[0]\n",
    "aoffensive_df.drop(aoffensive_df.columns[0], axis=1,inplace=True)\n",
    "aoffensive_df[\"Team\"]= p[\"away\"][\"name\"]\n",
    "\n",
    "driver.close() # Closing the browser window\n",
    "\n",
    "offensive_df= pd.concat([hoffensive_df,aoffensive_df],axis=0)\n",
    "offensive_df.drop(\"Key Events\", axis=1,inplace=True)\n",
    "offensive_df.reset_index(inplace = True, drop = True)\n",
    "offensive_df= offensive_df[offensive_df[\"Rating\"] != \"-\"]\n",
    "offensive_df= pd.concat([offensive_df,offensive_df[\"Player.1\"].str.split(\",\", 1, expand=True)],axis=1)\n",
    "offensive_df[0]=offensive_df[0].str.replace('\\d+', '')\n",
    "offensive_df[0]=offensive_df[0].str.replace(\"′\", \"\")\n",
    "offensive_df[0]=offensive_df[0].str.replace(\"(\", \"\")\n",
    "offensive_df[0]=offensive_df[0].str.replace(\")\", \"\")\n",
    "offensive_df[0]=offensive_df[0].str.strip(\" \")\n",
    "offensive_df.drop(offensive_df.columns[0], axis=1,inplace=True)\n",
    "offensive_df= offensive_df.rename(columns=dict(zip(offensive_df.columns,offensive_cols_rename)))\n",
    "offensive_df= offensive_df[offensive_cols_order]\n",
    "offensive_df.reset_index(inplace = True, drop = True)"
   ]
  },
  {
   "cell_type": "markdown",
   "metadata": {},
   "source": [
    "#### D. Match Defensive Stats"
   ]
  },
  {
   "cell_type": "code",
   "execution_count": 9,
   "metadata": {},
   "outputs": [],
   "source": [
    "driver = webdriver.Chrome(executable_path =\"C:\\Program Files (x86)\\Google\\Chrome\\chromedriver.exe\") \n",
    "url= \"https://www.whoscored.com/Matches/\"+str(Match_id)+\"/LiveStatistics/\" # Defining the url\n",
    "driver.get(url)\n",
    "links= driver.find_elements_by_link_text(\"Defensive\")\n",
    "links[0].click()\n",
    "links[1].click()\n",
    "time.sleep(8)\n",
    "d_element= driver.find_elements_by_xpath('//*[@id=\"top-player-stats-summary-grid\"]')\n",
    "hdefensive_db=d_element[1].get_attribute('innerHTML')\n",
    "hdefensive_db='<table>'+hdefensive_db+'</table>'\n",
    "hdefensive_df=pd.read_html(hdefensive_db)[0]\n",
    "hdefensive_df.drop(hdefensive_df.columns[0], axis=1,inplace=True)\n",
    "hdefensive_df[\"Team\"]= p[\"home\"][\"name\"]\n",
    "\n",
    "adefensive_db=d_element[3].get_attribute('innerHTML')\n",
    "adefensive_db='<table>'+adefensive_db+'</table>'\n",
    "adefensive_df=pd.read_html(adefensive_db)[0]\n",
    "adefensive_df.drop(adefensive_df.columns[0], axis=1,inplace=True)\n",
    "adefensive_df[\"Team\"]= p[\"away\"][\"name\"]\n",
    "\n",
    "driver.close() # Closing the browser window\n",
    "\n",
    "defensive_df= pd.concat([hdefensive_df,adefensive_df],axis=0)\n",
    "defensive_df.drop(\"Key Events\", axis=1,inplace=True)\n",
    "defensive_df.reset_index(inplace = True, drop = True)\n",
    "defensive_df= defensive_df[defensive_df[\"Rating\"] != \"-\"]\n",
    "defensive_df= pd.concat([defensive_df,defensive_df[\"Player.1\"].str.split(\",\", 1, expand=True)],axis=1)\n",
    "defensive_df[0]=defensive_df[0].str.replace('\\d+', '')\n",
    "defensive_df[0]=defensive_df[0].str.replace(\"′\", \"\")\n",
    "defensive_df[0]=defensive_df[0].str.replace(\"(\", \"\")\n",
    "defensive_df[0]=defensive_df[0].str.replace(\")\", \"\")\n",
    "defensive_df[0]=defensive_df[0].str.strip(\" \")\n",
    "defensive_df.drop(defensive_df.columns[0], axis=1,inplace=True)\n",
    "defensive_df= defensive_df.rename(columns=dict(zip(defensive_df.columns,defensive_cols_rename)))\n",
    "defensive_df= defensive_df[defensive_cols_order]\n",
    "defensive_df.reset_index(inplace = True, drop = True)"
   ]
  },
  {
   "cell_type": "markdown",
   "metadata": {},
   "source": [
    "#### E. Match Passing Stats"
   ]
  },
  {
   "cell_type": "code",
   "execution_count": 10,
   "metadata": {},
   "outputs": [],
   "source": [
    "driver = webdriver.Chrome(executable_path =\"C:\\Program Files (x86)\\Google\\Chrome\\chromedriver.exe\") \n",
    "url= \"https://www.whoscored.com/Matches/\"+str(Match_id)+\"/LiveStatistics/\" # Defining the url\n",
    "driver.get(url)\n",
    "links= driver.find_elements_by_link_text(\"Passing\")\n",
    "links[0].click()\n",
    "links[1].click()\n",
    "time.sleep(8)\n",
    "pa_element= driver.find_elements_by_xpath('//*[@id=\"top-player-stats-summary-grid\"]')\n",
    "hpassing_db=pa_element[1].get_attribute('innerHTML')\n",
    "hpassing_db='<table>'+hpassing_db+'</table>'\n",
    "hpassing_df=pd.read_html(hpassing_db)[0]\n",
    "hpassing_df.drop(hpassing_df.columns[0], axis=1,inplace=True)\n",
    "hpassing_df[\"Team\"]= p[\"home\"][\"name\"]\n",
    "\n",
    "apassing_db=pa_element[3].get_attribute('innerHTML')\n",
    "apassing_db='<table>'+apassing_db+'</table>'\n",
    "apassing_df=pd.read_html(apassing_db)[0]\n",
    "apassing_df.drop(apassing_df.columns[0], axis=1,inplace=True)\n",
    "apassing_df[\"Team\"]= p[\"away\"][\"name\"]\n",
    "\n",
    "driver.close() # Closing the browser window\n",
    "\n",
    "passing_df= pd.concat([hpassing_df,apassing_df],axis=0)\n",
    "passing_df.drop(\"Key Events\", axis=1,inplace=True)\n",
    "passing_df.reset_index(inplace = True, drop = True)\n",
    "passing_df= passing_df[passing_df[\"Rating\"] != \"-\"]\n",
    "passing_df= pd.concat([passing_df,passing_df[\"Player.1\"].str.split(\",\", 1, expand=True)],axis=1)\n",
    "passing_df[0]=passing_df[0].str.replace('\\d+', '')\n",
    "passing_df[0]=passing_df[0].str.replace(\"′\", \"\")\n",
    "passing_df[0]=passing_df[0].str.replace(\"(\", \"\")\n",
    "passing_df[0]=passing_df[0].str.replace(\")\", \"\")\n",
    "passing_df[0]=passing_df[0].str.strip(\" \")\n",
    "passing_df.drop(passing_df.columns[0], axis=1,inplace=True)\n",
    "passing_df= passing_df.rename(columns=dict(zip(passing_df.columns,passing_cols_rename)))\n",
    "passing_df= passing_df[passing_cols_order]\n",
    "passing_df.reset_index(inplace = True, drop = True)"
   ]
  },
  {
   "cell_type": "markdown",
   "metadata": {},
   "source": [
    "#### E. FbRef Outfield Match Stats"
   ]
  },
  {
   "cell_type": "code",
   "execution_count": 11,
   "metadata": {},
   "outputs": [],
   "source": [
    "driver = webdriver.Chrome(executable_path =\"C:\\Program Files (x86)\\Google\\Chrome\\chromedriver.exe\") \n",
    "url= \"https://fbref.com/en/matches/\"+ Match_id_fbref +str(\"/\") # Defining the url\n",
    "driver.get(url)\n",
    "time.sleep(8)\n",
    "\n",
    "hfbref_element= driver.find_elements_by_xpath('//*[@id=\"stats_b8fd03ef_summary\"]')\n",
    "hfbref_db= hfbref_element[0].get_attribute('innerHTML')\n",
    "hfbref_db= '<table>'+hfbref_db+'</table>'\n",
    "hfbref_df= pd.read_html(hfbref_db)[0]\n",
    "hfbref_df.columns=hfbref_df.columns.droplevel()\n",
    "hfbref_df.drop(hfbref_df.tail(1).index,inplace=True)\n",
    "\n",
    "afbref_element= driver.find_elements_by_xpath('//*[@id=\"stats_19538871_summary\"]')\n",
    "afbref_db= afbref_element[0].get_attribute('innerHTML')\n",
    "afbref_db= '<table>'+afbref_db+'</table>'\n",
    "afbref_df= pd.read_html(afbref_db)[0]\n",
    "afbref_df.columns=afbref_df.columns.droplevel()\n",
    "afbref_df.drop(afbref_df.tail(1).index,inplace=True)\n",
    "\n",
    "driver.close() # Closing the browser window\n",
    "\n",
    "fbref_df= pd.concat([hfbref_df,afbref_df],axis=0)\n",
    "fbref_df.reset_index(inplace = True, drop = True)\n",
    "fbref_df.columns= Fbref_cols_rename\n",
    "table = str.maketrans('', '', string.ascii_lowercase)\n",
    "fbref_df[\"Nation\"]= fbref_df[\"Nation\"].apply(lambda x: x.translate(table).strip(\" \"))\n",
    "fbref_df[\"Age\"]=fbref_df[\"Age\"].apply(lambda x: x[0:x.index(\"-\")])\n",
    "fbref_df= fbref_df[Fbref_cols_order]"
   ]
  },
  {
   "cell_type": "markdown",
   "metadata": {},
   "source": [
    "#### F. FbRef GK Match Stats"
   ]
  },
  {
   "cell_type": "code",
   "execution_count": 12,
   "metadata": {},
   "outputs": [],
   "source": [
    "driver = webdriver.Chrome(executable_path =\"C:\\Program Files (x86)\\Google\\Chrome\\chromedriver.exe\") \n",
    "url= \"https://fbref.com/en/matches/\"+ Match_id_fbref +str(\"/\") # Defining the url\n",
    "driver.get(url)\n",
    "time.sleep(8)\n",
    "\n",
    "hgkfbref_element= driver.find_elements_by_xpath('//*[@id=\"keeper_stats_b8fd03ef\"]')\n",
    "hgkfbref_db= hgkfbref_element[0].get_attribute('innerHTML')\n",
    "hgkfbref_db= '<table>'+hgkfbref_db+'</table>'\n",
    "hgkfbref_df= pd.read_html(hgkfbref_db)[0]\n",
    "hgkfbref_df.columns= hgkfbref_df.columns.droplevel()\n",
    "\n",
    "agkfbref_element= driver.find_elements_by_xpath('//*[@id=\"keeper_stats_19538871\"]')\n",
    "agkfbref_db= agkfbref_element[0].get_attribute('innerHTML')\n",
    "agkfbref_db= '<table>'+agkfbref_db+'</table>'\n",
    "agkfbref_df= pd.read_html(agkfbref_db)[0]\n",
    "agkfbref_df.columns= agkfbref_df.columns.droplevel()\n",
    "\n",
    "driver.close() # Closing the browser window\n",
    "\n",
    "gkfbref_df= pd.concat([hgkfbref_df,agkfbref_df],axis=0)\n",
    "gkfbref_df.reset_index(inplace = True, drop = True)\n",
    "gkfbref_df.columns= gkfbref_cols_rename\n",
    "table = str.maketrans('', '', string.ascii_lowercase)\n",
    "gkfbref_df[\"Nation\"]= gkfbref_df[\"Nation\"].apply(lambda x: x.translate(table).strip(\" \"))\n",
    "gkfbref_df[\"Age\"]=gkfbref_df[\"Age\"].apply(lambda x: x[0:x.index(\"-\")])\n",
    "gkfbref_df= gkfbref_df[gkfbref_cols_order]"
   ]
  },
  {
   "cell_type": "markdown",
   "metadata": {},
   "source": [
    "## V. Merging Stats DFs"
   ]
  },
  {
   "cell_type": "code",
   "execution_count": 13,
   "metadata": {},
   "outputs": [],
   "source": [
    "Outfield_stats_df= pd.merge(summary_df,defensive_df, on=[\"Player\"],how='outer',suffixes=('', '_y'))\n",
    "Outfield_stats_df.drop(Outfield_stats_df.filter(regex='_y$').columns.tolist(),axis=1, inplace=True)\n",
    "Outfield_stats_df= pd.merge(Outfield_stats_df,offensive_df, on=[\"Player\"],how='outer',suffixes=('', '_y'))\n",
    "Outfield_stats_df.drop(Outfield_stats_df.filter(regex='_y$').columns.tolist(),axis=1, inplace=True)\n",
    "Outfield_stats_df= pd.merge(Outfield_stats_df,passing_df, on=[\"Player\"],how='outer',suffixes=('', '_y'))\n",
    "Outfield_stats_df.drop(Outfield_stats_df.filter(regex='_y$').columns.tolist(),axis=1, inplace=True)\n",
    "\n",
    "for i in range(Outfield_stats_df.shape[0]):\n",
    "    Outfield_stats_df[\"Player\"][i]= str(unicodedata.normalize('NFD', str(Outfield_stats_df[\"Player\"][i])).encode('ascii', 'ignore')).strip(\"b\").strip(\"'\")\n",
    "for i in range(fbref_df.shape[0]):\n",
    "    fbref_df[\"Player\"][i]= str(unicodedata.normalize('NFD', str(fbref_df[\"Player\"][i])).encode('ascii', 'ignore')).strip(\"b\").strip(\"'\")\n",
    "\n",
    "fbref_df[\"Player\"]= fbref_df[\"Player\"].apply(lambda x: difflib.get_close_matches(x, Outfield_stats_df['Player'])[0])\n",
    "Outfield_stats_df= pd.merge(Outfield_stats_df,fbref_df, on=[\"Player\"],how='outer',suffixes=('', '_y'))\n",
    "Outfield_stats_df.drop(Outfield_stats_df.filter(regex='_y$').columns.tolist(),axis=1, inplace=True)\n",
    "Outfield_stats_df= Outfield_stats_df[Outfield_stats_cols_order]\n",
    "Outfield_stats_df= Outfield_stats_df[Outfield_stats_df[\"Position\"] != \"GK\"]"
   ]
  },
  {
   "cell_type": "code",
   "execution_count": 14,
   "metadata": {},
   "outputs": [
    {
     "data": {
      "text/plain": [
       "True"
      ]
     },
     "execution_count": 14,
     "metadata": {},
     "output_type": "execute_result"
    }
   ],
   "source": [
    "Outfield_stats_df.shape[0]== summary_df.shape[0]"
   ]
  },
  {
   "cell_type": "markdown",
   "metadata": {},
   "source": [
    "## VI. Visualizing Data"
   ]
  },
  {
   "cell_type": "markdown",
   "metadata": {},
   "source": [
    "### Creating Directories"
   ]
  },
  {
   "cell_type": "code",
   "execution_count": 15,
   "metadata": {},
   "outputs": [],
   "source": [
    "# Parent Directory\n",
    "parent_dir = \"C:/Users/UDAY SURI/Desktop/Live Match Coding/\"\n",
    "\n",
    "# Directory\n",
    "directory = p[\"home\"][\"name\"]+\" vs \"+p[\"away\"][\"name\"]\n",
    "d1= 'Heatmaps/'\n",
    "d2= 'Pass maps/'\n",
    "d3= 'xgnxgxa Polar Charts/'\n",
    "d4= 'Final Third Polar Charts/'\n",
    "d5= 'Bad Actions Polar Charts/'\n",
    "d6= 'Out of Possession Polar Charts/'\n",
    "d7= 'Defensive Polar Charts/'\n",
    "d8= 'Progressive Polar Charts/'\n",
    "d9= 'Passes Received Heatmap/'\n",
    "\n",
    "# Directory paths\n",
    "path = os.path.join(parent_dir, directory)\n",
    "path1= os.path.join(path, d1)\n",
    "path2= os.path.join(path, d2)\n",
    "path3= os.path.join(path, d3)\n",
    "path4= os.path.join(path, d4)\n",
    "path5= os.path.join(path, d5)\n",
    "path6= os.path.join(path, d6)\n",
    "path7= os.path.join(path, d7)\n",
    "path8= os.path.join(path, d8)\n",
    "path9= os.path.join(path, d9)\n",
    "\n",
    "# Create the directory\n",
    "if not os.path.exists(path):\n",
    "    os.mkdir(path)\n",
    "else:\n",
    "    pass\n",
    "if not os.path.exists(path1):\n",
    "    os.mkdir(path1)\n",
    "else:\n",
    "    pass\n",
    "if not os.path.exists(path2):\n",
    "    os.mkdir(path2)\n",
    "else:\n",
    "    pass\n",
    "if not os.path.exists(path3):\n",
    "    os.mkdir(path3)\n",
    "else:\n",
    "    pass\n",
    "if not os.path.exists(path4):\n",
    "    os.mkdir(path4)\n",
    "else:\n",
    "    pass\n",
    "if not os.path.exists(path5):\n",
    "    os.mkdir(path5)\n",
    "else:\n",
    "    pass\n",
    "if not os.path.exists(path6):\n",
    "    os.mkdir(path6)\n",
    "else:\n",
    "    pass\n",
    "if not os.path.exists(path7):\n",
    "    os.mkdir(path7)\n",
    "else:\n",
    "    pass\n",
    "if not os.path.exists(path8):\n",
    "    os.mkdir(path8)\n",
    "else:\n",
    "    pass\n",
    "if not os.path.exists(path9):\n",
    "    os.mkdir(path9)\n",
    "else:\n",
    "    pass"
   ]
  },
  {
   "cell_type": "markdown",
   "metadata": {},
   "source": [
    "### A. Heatmaps"
   ]
  },
  {
   "cell_type": "code",
   "execution_count": 16,
   "metadata": {},
   "outputs": [],
   "source": [
    "Players= list(events_df_flat[\"Player\"].unique())"
   ]
  },
  {
   "cell_type": "code",
   "execution_count": 17,
   "metadata": {},
   "outputs": [],
   "source": [
    "for i in range(len(Players)):\n",
    "    try:\n",
    "        draw_pitch()\n",
    "        ax= sns.kdeplot(events_df_flat[events_df_flat[\"Player\"]==str(Players[i])][\"x\"],events_df_flat[events_df_flat[\"Player\"]==str(Players[i])][\"y\"],shade=True,cmap=\"mako\",n_levels=100)\n",
    "        plt.ylim(0,90)\n",
    "        plt.xlim(0,130)\n",
    "        fig= ax.get_figure()\n",
    "        plt.title(str(Players[i])+\" : \"+str(events_df_flat[\"Match Details\"].unique()[0]), fontsize= 30, color=\"White\")\n",
    "        plt.savefig(str(path1)+str(events_df_flat[events_df_flat[\"Player\"]==str(Players[i])][\"Team\"].unique()[0])+\" \"+str(Players[i])+\".png\" ,orientation='landscape',facecolor =\"black\",transparent = True)\n",
    "    except:\n",
    "        pass\n",
    "        print(\"error\")\n",
    "plt.close('all')"
   ]
  },
  {
   "cell_type": "markdown",
   "metadata": {},
   "source": [
    "### B. Pass Maps"
   ]
  },
  {
   "cell_type": "code",
   "execution_count": 18,
   "metadata": {},
   "outputs": [],
   "source": [
    "passmap_df= events_df_flat[events_df_flat[\"Event Type\"]==\"Pass\"]\n",
    "passmap_df.reset_index(inplace = True, drop = True)"
   ]
  },
  {
   "cell_type": "code",
   "execution_count": 19,
   "metadata": {},
   "outputs": [],
   "source": [
    "for n in range(len(Players)):\n",
    "    try:\n",
    "        passes= passmap_df[passmap_df[\"Player\"]==str(Players[n])]\n",
    "        draw_pitch()\n",
    "        for i in list(passes.index):\n",
    "            plt.plot([int(passes[\"x\"][i]),int(passes[\"x_end\"][i])],\n",
    "                     [int(passes[\"y\"][i]),int(passes[\"y_end\"][i])], \n",
    "                     color=\"darkturquoise\",alpha=1)\n",
    "            plt.plot(int(passes[\"x\"][i]),int(passes[\"y\"][i]),\"o\", color=\"firebrick\",markersize=6,alpha=1)\n",
    "            plt.title(str(passes[\"Player\"].unique()[0])+\" : \"+str(passes[\"Match Details\"].unique()[0]), color=\"white\",fontsize= 30)\n",
    "        plt.ylim(0,90)\n",
    "        plt.xlim(0,130)\n",
    "        plt.savefig(str(path2)+str(passes[\"Team\"].unique()[0])+\" \"+str(Players[n])+\".png\" ,orientation='landscape',transparent = True, facecolor=\"black\")\n",
    "    except:\n",
    "        pass\n",
    "        print(\"error\")\n",
    "plt.close('all')"
   ]
  },
  {
   "cell_type": "markdown",
   "metadata": {},
   "source": [
    "### C. Polar Charts"
   ]
  },
  {
   "cell_type": "code",
   "execution_count": 20,
   "metadata": {},
   "outputs": [],
   "source": [
    "h_players= list(Outfield_stats_df[Outfield_stats_df[\"Team\"]==p[\"home\"][\"name\"]][\"Player\"].unique())"
   ]
  },
  {
   "cell_type": "code",
   "execution_count": 21,
   "metadata": {},
   "outputs": [],
   "source": [
    "a_players= list(Outfield_stats_df[Outfield_stats_df[\"Team\"]==p[\"away\"][\"name\"]][\"Player\"].unique())"
   ]
  },
  {
   "cell_type": "markdown",
   "metadata": {},
   "source": [
    "#### 1. XG-NXG-XA"
   ]
  },
  {
   "cell_type": "code",
   "execution_count": 22,
   "metadata": {},
   "outputs": [],
   "source": [
    "Theta1= ['xG', 'non-penalty xG', 'xA']"
   ]
  },
  {
   "cell_type": "code",
   "execution_count": 46,
   "metadata": {},
   "outputs": [],
   "source": [
    "for i in h_players:\n",
    "    for j in a_players:\n",
    "        fig = go.Figure()\n",
    "        fig.add_trace(go.Scatterpolar(r=Outfield_stats_df[Outfield_stats_df[\"Player\"]==i][Theta1].iloc[0].values.tolist(),theta=Theta1,fill='toself'))\n",
    "        fig.add_trace(go.Scatterpolar(r=Outfield_stats_df[Outfield_stats_df[\"Player\"]==j][Theta1].iloc[0].values.tolist(),theta=Theta1,fill='toself'))\n",
    "        fig.update_layout(title={\n",
    "                'text': str(i)+\" vs \"+str(j),\n",
    "                'y':0.98,\n",
    "                'x':0.5,\n",
    "                'xanchor': 'center',\n",
    "                'yanchor': 'top'},template=\"plotly_dark\",polar=dict(radialaxis=dict(visible=True,range=[0, Outfield_stats_df[(Outfield_stats_df[\"Player\"]==i) | (Outfield_stats_df[\"Player\"]==j)][Theta1].max().max()])),showlegend=False,width=700, height=700)\n",
    "        fig.write_image(str(path3)+str(i)+\" vs \"+str(j)+\".png\")"
   ]
  },
  {
   "cell_type": "markdown",
   "metadata": {},
   "source": [
    "#### 2. Final Third"
   ]
  },
  {
   "cell_type": "code",
   "execution_count": 47,
   "metadata": {},
   "outputs": [],
   "source": [
    "Theta2= ['Shots on Target','Key Passes','Accurate Crosses','Accurate LongBalls','Accurate ThroughBalls']"
   ]
  },
  {
   "cell_type": "code",
   "execution_count": 48,
   "metadata": {},
   "outputs": [],
   "source": [
    "for i in h_players:\n",
    "    for j in a_players:\n",
    "        fig = go.Figure()\n",
    "        fig.add_trace(go.Scatterpolar(r=Outfield_stats_df[Outfield_stats_df[\"Player\"]==i][Theta2].iloc[0].tolist(),theta=Theta2,fill='toself'))\n",
    "        fig.add_trace(go.Scatterpolar(r=Outfield_stats_df[Outfield_stats_df[\"Player\"]==j][Theta2].iloc[0].tolist(),theta=Theta2,fill='toself'))\n",
    "        fig.update_layout(title={\n",
    "                'text': str(i)+\" vs \"+str(j),\n",
    "                'y':0.98,\n",
    "                'x':0.5,\n",
    "                'xanchor': 'center',\n",
    "                'yanchor': 'top'},template=\"plotly_dark\",polar=dict(radialaxis=dict(visible=True,range=[0, Outfield_stats_df[(Outfield_stats_df[\"Player\"]==i) | (Outfield_stats_df[\"Player\"]==j)][Theta2].max().max()])),showlegend=False,width=700, height=700)\n",
    "        fig.write_image(str(path4)+str(i)+\" vs \"+str(j)+\".png\")"
   ]
  },
  {
   "cell_type": "markdown",
   "metadata": {},
   "source": [
    "#### 3. Bad Actions"
   ]
  },
  {
   "cell_type": "code",
   "execution_count": 49,
   "metadata": {},
   "outputs": [],
   "source": [
    "Theta3= ['Yellow Card', 'Red Card','Dispossessed','Bad Touches','Fouls']"
   ]
  },
  {
   "cell_type": "code",
   "execution_count": 50,
   "metadata": {},
   "outputs": [],
   "source": [
    "for i in h_players:\n",
    "    for j in a_players:\n",
    "        fig = go.Figure()\n",
    "        fig.add_trace(go.Scatterpolar(r=Outfield_stats_df[Outfield_stats_df[\"Player\"]==i][Theta3].iloc[0].tolist(),theta=Theta3,fill='toself'))\n",
    "        fig.add_trace(go.Scatterpolar(r=Outfield_stats_df[Outfield_stats_df[\"Player\"]==j][Theta3].iloc[0].tolist(),theta=Theta3,fill='toself'))\n",
    "        fig.update_layout(title={\n",
    "                'text': str(i)+\" vs \"+str(j),\n",
    "                'y':0.98,\n",
    "                'x':0.5,\n",
    "                'xanchor': 'center',\n",
    "                'yanchor': 'top'},template=\"plotly_dark\",polar=dict(radialaxis=dict(visible=True,range=[0, Outfield_stats_df[(Outfield_stats_df[\"Player\"]==i) | (Outfield_stats_df[\"Player\"]==j)][Theta3].max().max()])),showlegend=False,width=700, height=700)\n",
    "        fig.write_image(str(path5)+str(i)+\" vs \"+str(j)+\".png\")"
   ]
  },
  {
   "cell_type": "markdown",
   "metadata": {},
   "source": [
    "#### 4. Out-of possession"
   ]
  },
  {
   "cell_type": "code",
   "execution_count": 51,
   "metadata": {},
   "outputs": [],
   "source": [
    "Theta4= ['Interceptions','Press','Blocked Shots']"
   ]
  },
  {
   "cell_type": "code",
   "execution_count": 52,
   "metadata": {},
   "outputs": [],
   "source": [
    "for i in h_players:\n",
    "    for j in a_players:\n",
    "        fig = go.Figure()\n",
    "        fig.add_trace(go.Scatterpolar(r=Outfield_stats_df[Outfield_stats_df[\"Player\"]==i][Theta4].iloc[0].tolist(),theta=Theta4,fill='toself'))\n",
    "        fig.add_trace(go.Scatterpolar(r=Outfield_stats_df[Outfield_stats_df[\"Player\"]==j][Theta4].iloc[0].tolist(),theta=Theta4,fill='toself'))\n",
    "        fig.update_layout(title={\n",
    "                'text': str(i)+\" vs \"+str(j),\n",
    "                'y':0.98,\n",
    "                'x':0.5,\n",
    "                'xanchor': 'center',\n",
    "                'yanchor': 'top'},template=\"plotly_dark\",polar=dict(radialaxis=dict(visible=True,range=[0, Outfield_stats_df[(Outfield_stats_df[\"Player\"]==i) | (Outfield_stats_df[\"Player\"]==j)][Theta4].max().max()])),showlegend=False,width=700, height=700)\n",
    "        fig.write_image(str(path6)+str(i)+\" vs \"+str(j)+\".png\")"
   ]
  },
  {
   "cell_type": "markdown",
   "metadata": {},
   "source": [
    "#### 5. Defensive"
   ]
  },
  {
   "cell_type": "code",
   "execution_count": 53,
   "metadata": {},
   "outputs": [],
   "source": [
    "Theta5= ['Clearances','Blocks','Total Tackles']"
   ]
  },
  {
   "cell_type": "code",
   "execution_count": 54,
   "metadata": {},
   "outputs": [],
   "source": [
    "for i in h_players:\n",
    "    for j in a_players:\n",
    "        fig = go.Figure()\n",
    "        fig.add_trace(go.Scatterpolar(r=Outfield_stats_df[Outfield_stats_df[\"Player\"]==i][Theta5].iloc[0].tolist(),theta=Theta5,fill='toself'))\n",
    "        fig.add_trace(go.Scatterpolar(r=Outfield_stats_df[Outfield_stats_df[\"Player\"]==j][Theta5].iloc[0].tolist(),theta=Theta5,fill='toself'))\n",
    "        fig.update_layout(title={\n",
    "                'text': str(i)+\" vs \"+str(j),\n",
    "                'y':0.98,\n",
    "                'x':0.5,\n",
    "                'xanchor': 'center',\n",
    "                'yanchor': 'top'},template=\"plotly_dark\",polar=dict(radialaxis=dict(visible=True,range=[0, Outfield_stats_df[(Outfield_stats_df[\"Player\"]==i) | (Outfield_stats_df[\"Player\"]==j)][Theta5].max().max()])),showlegend=False,width=700, height=700)\n",
    "        fig.write_image(str(path7)+str(i)+\" vs \"+str(j)+\".png\")"
   ]
  },
  {
   "cell_type": "markdown",
   "metadata": {},
   "source": [
    "#### 6. Progessive Actions"
   ]
  },
  {
   "cell_type": "code",
   "execution_count": 55,
   "metadata": {},
   "outputs": [],
   "source": [
    "Theta6= ['Shot Creating Actions','Goal Creating Actions','Dribbles','Progressive Pass','Progressive Carry']"
   ]
  },
  {
   "cell_type": "code",
   "execution_count": 57,
   "metadata": {},
   "outputs": [],
   "source": [
    "for i in h_players:\n",
    "    for j in a_players:\n",
    "        fig = go.Figure()\n",
    "        fig.add_trace(go.Scatterpolar(r=Outfield_stats_df[Outfield_stats_df[\"Player\"]==i][Theta6].iloc[0].tolist(),theta=Theta6,fill='toself'))\n",
    "        fig.add_trace(go.Scatterpolar(r=Outfield_stats_df[Outfield_stats_df[\"Player\"]==j][Theta6].iloc[0].tolist(),theta=Theta6,fill='toself'))\n",
    "        fig.update_layout(title={\n",
    "                'text': str(i)+\" vs \"+str(j),\n",
    "                'y':0.98,\n",
    "                'x':0.5,\n",
    "                'xanchor': 'center',\n",
    "                'yanchor': 'top'},template=\"plotly_dark\",polar=dict(radialaxis=dict(visible=True,range=[0, Outfield_stats_df[(Outfield_stats_df[\"Player\"]==i) | (Outfield_stats_df[\"Player\"]==j)][Theta6].max().max()])),showlegend=False,width=700, height=700)\n",
    "        fig.write_image(str(path8)+str(i)+\" vs \"+str(j)+\".png\")"
   ]
  },
  {
   "cell_type": "markdown",
   "metadata": {},
   "source": [
    "### D. Passes Received Heatmap"
   ]
  },
  {
   "cell_type": "code",
   "execution_count": 34,
   "metadata": {},
   "outputs": [],
   "source": [
    "successful_events_df= events_df_flat[events_df_flat[\"Outcome\"]==\"Successful\"]\n",
    "successfulpasses_events_df= successful_events_df[successful_events_df[\"Event Type\"]==\"Pass\"]\n",
    "Players_received= list(successfulpasses_events_df[\"Next Player\"].unique())"
   ]
  },
  {
   "cell_type": "code",
   "execution_count": 35,
   "metadata": {},
   "outputs": [],
   "source": [
    "for i in range(len(Players_received)):\n",
    "    try:\n",
    "        draw_pitch()\n",
    "        ax= sns.kdeplot(successfulpasses_events_df[successfulpasses_events_df[\"Next Player\"]==str(Players_received[i])][\"x_end\"],successfulpasses_events_df[successfulpasses_events_df[\"Next Player\"]==str(Players_received[i])][\"y_end\"],shade=True,cmap=\"mako\",n_levels=100)\n",
    "        plt.ylim(0,90)\n",
    "        plt.xlim(0,130)\n",
    "        fig= ax.get_figure()\n",
    "        fig.patch.set_facecolor('xkcd:black')\n",
    "        plt.title(\"Passes Received by \"+str(Players_received[i])+\" : \"+str(successfulpasses_events_df[\"Match Details\"].unique()[0]), fontsize= 30, color=\"White\")\n",
    "        plt.savefig(str(path9)+str(successfulpasses_events_df[successfulpasses_events_df[\"Next Player\"]==str(Players_received[i])][\"Team\"].unique()[0])+\" \"+str(Players_received[i])+\".png\" ,orientation='landscape',facecolor =\"black\",transparent = True)\n",
    "    except:\n",
    "        pass\n",
    "plt.close('all')"
   ]
  }
 ],
 "metadata": {
  "kernelspec": {
   "display_name": "Python 3",
   "language": "python",
   "name": "python3"
  },
  "language_info": {
   "codemirror_mode": {
    "name": "ipython",
    "version": 3
   },
   "file_extension": ".py",
   "mimetype": "text/x-python",
   "name": "python",
   "nbconvert_exporter": "python",
   "pygments_lexer": "ipython3",
   "version": "3.8.3"
  }
 },
 "nbformat": 4,
 "nbformat_minor": 4
}
